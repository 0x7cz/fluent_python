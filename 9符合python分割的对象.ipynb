{
 "cells": [
  {
   "cell_type": "code",
   "execution_count": 1,
   "metadata": {},
   "outputs": [],
   "source": [
    "from array import array\n",
    "import math\n",
    "class Vector2d:\n",
    "    typecode = 'd'  \n",
    "    def __init__(self, x, y):\n",
    "        self.x = float(x)   \n",
    "        self.y = float(y)\n",
    "    def __iter__(self):\n",
    "        return (i for i in (self.x, self.y))  \n",
    "    def __repr__(self):\n",
    "        class_name = type(self).__name__\n",
    "        return '{}({!r}, {!r})'.format(class_name, *self)  \n",
    "    def __str__(self):\n",
    "        return str(tuple(self))  \n",
    "    def __bytes__(self):\n",
    "        return (bytes([ord(self.typecode)])+\n",
    "                bytes(array(self.typecode, self)))  \n",
    "    def __eq__(self, other):\n",
    "        return tuple(self) == tuple(other)  \n",
    "    def __abs__(self):\n",
    "        return math.hypot(self.x, self.y)  \n",
    "    def __bool__(self):\n",
    "        return bool(abs(self))  "
   ]
  },
  {
   "cell_type": "code",
   "execution_count": 12,
   "metadata": {},
   "outputs": [
    {
     "name": "stdout",
     "output_type": "stream",
     "text": [
      "1.0\n",
      "2.0\n"
     ]
    },
    {
     "data": {
      "text/plain": [
       "1.0"
      ]
     },
     "execution_count": 12,
     "metadata": {},
     "output_type": "execute_result"
    }
   ],
   "source": [
    "a = Vector2d(1,2)\n",
    "for i in a:\n",
    "    print(i)   # iter测试\n",
    "b =iter(a)\n",
    "next(b)"
   ]
  },
  {
   "cell_type": "markdown",
   "metadata": {},
   "source": [
    "1. classmethod常用来定义备选构造函数\n",
    "2. staticmethod和普通函数没有区别，只不过放在类内部"
   ]
  },
  {
   "cell_type": "code",
   "execution_count": 13,
   "metadata": {},
   "outputs": [
    {
     "data": {
      "text/plain": [
       "('spam',)"
      ]
     },
     "execution_count": 13,
     "metadata": {},
     "output_type": "execute_result"
    }
   ],
   "source": [
    "class Demo:\n",
    "    @classmethod\n",
    "    def klassmeth(*args):\n",
    "        return args \n",
    "    @staticmethod\n",
    "    def statmeth(*args):\n",
    "        return args  \n",
    "\n",
    "Demo.klassmeth()\n",
    "Demo.klassmeth('spam')\n",
    "Demo.statmeth()\n",
    "Demo.statmeth('spam')\n"
   ]
  },
  {
   "cell_type": "markdown",
   "metadata": {},
   "source": [
    "## 受保护属性"
   ]
  },
  {
   "cell_type": "code",
   "execution_count": 25,
   "metadata": {},
   "outputs": [
    {
     "name": "stdout",
     "output_type": "stream",
     "text": [
      "hi\n",
      "['_Demo__hello', '__class__', '__delattr__', '__dict__', '__dir__', '__doc__', '__eq__', '__format__', '__ge__', '__getattribute__', '__gt__', '__hash__', '__init__', '__init_subclass__', '__le__', '__lt__', '__module__', '__ne__', '__new__', '__reduce__', '__reduce_ex__', '__repr__', '__setattr__', '__sizeof__', '__str__', '__subclasshook__', '__weakref__', '_hi']\n",
      "hi,I am Demo_me\n",
      "hello\n",
      "hello, I am Demo_me\n"
     ]
    }
   ],
   "source": [
    "class Demo:\n",
    "    def __init__(self) -> None:\n",
    "        self._hi = 'hi'\n",
    "        self.__hello = 'hello'\n",
    "class Demo_me(Demo):\n",
    "    def __init__(self) -> None:\n",
    "        super().__init__()\n",
    "        self._hi = 'hi,I am Demo_me'\n",
    "        self.__hello = 'hello, I am Demo_me'\n",
    "d = Demo()\n",
    "d2 = Demo_me()\n",
    "print(d._hi)\n",
    "print(dir(d))\n",
    "print(d2._hi)   #可以理解为_hi为保护属性，可以被子类改写\n",
    "print(d2._Demo__hello)\n",
    "print(d2._Demo_me__hello)"
   ]
  },
  {
   "cell_type": "markdown",
   "metadata": {},
   "source": [
    "## 类属性\n"
   ]
  },
  {
   "cell_type": "code",
   "execution_count": null,
   "metadata": {},
   "outputs": [],
   "source": []
  }
 ],
 "metadata": {
  "kernelspec": {
   "display_name": "torch_cpu",
   "language": "python",
   "name": "python3"
  },
  "language_info": {
   "codemirror_mode": {
    "name": "ipython",
    "version": 3
   },
   "file_extension": ".py",
   "mimetype": "text/x-python",
   "name": "python",
   "nbconvert_exporter": "python",
   "pygments_lexer": "ipython3",
   "version": "3.8.17"
  }
 },
 "nbformat": 4,
 "nbformat_minor": 2
}
