{
 "cells": [
  {
   "cell_type": "markdown",
   "metadata": {},
   "source": [
    "### 1. 为什么使用isinstance而不使用type？\n",
    "* type() 不会认为子类是一种父类类型，不考虑继承关系。\n",
    "* isinstance() 会认为子类是一种父类类型，考虑继承关系。"
   ]
  },
  {
   "cell_type": "code",
   "execution_count": 5,
   "metadata": {},
   "outputs": [
    {
     "name": "stdout",
     "output_type": "stream",
     "text": [
      "<class '__main__.my_list'>\n",
      "<class 'list'>\n"
     ]
    },
    {
     "data": {
      "text/plain": [
       "True"
      ]
     },
     "execution_count": 5,
     "metadata": {},
     "output_type": "execute_result"
    }
   ],
   "source": [
    "class my_list(list):\n",
    "    pass\n",
    "\n",
    "a = my_list()\n",
    "print(type(a))\n",
    "print(type([]))\n",
    "isinstance(a,list)"
   ]
  },
  {
   "cell_type": "markdown",
   "metadata": {},
   "source": [
    "### 2. 使用except去捕获异常"
   ]
  },
  {
   "cell_type": "code",
   "execution_count": 7,
   "metadata": {},
   "outputs": [
    {
     "name": "stdout",
     "output_type": "stream",
     "text": [
      "THE 0 is error\n"
     ]
    }
   ],
   "source": [
    "try:\n",
    "    1/0\n",
    "except ZeroDivisionError:\n",
    "    print('THE 0 is error')"
   ]
  },
  {
   "cell_type": "markdown",
   "metadata": {},
   "source": [
    "### 3. 使用装饰器"
   ]
  },
  {
   "cell_type": "markdown",
   "metadata": {},
   "source": [
    "#### 1.装饰器基本\n",
    "为什么编写装饰器要用到闭包？因为装饰器函数返回的是一个函数，而如果要在输入函数前后都能插入语句，那必须再创建一个函数。\n",
    "如果不返回一个函数，直接执行输入函数功能，则是一个回调函数了。"
   ]
  },
  {
   "cell_type": "code",
   "execution_count": 1,
   "metadata": {},
   "outputs": [
    {
     "name": "stdout",
     "output_type": "stream",
     "text": [
      "0.022235870361328125\n",
      "1\n"
     ]
    }
   ],
   "source": [
    "import time\n",
    "def count_time(func):\n",
    "    def wrapper():\n",
    "        s = time.time()\n",
    "        res = func()\n",
    "        e = time.time()\n",
    "        print(e-s)\n",
    "        return res\n",
    "    return wrapper\n",
    "\n",
    "@count_time\n",
    "def test():\n",
    "    for i in range(1000000):\n",
    "        a = 1\n",
    "        pass\n",
    "    return 1\n",
    "\n",
    "# count_time(test)()\n",
    "a = test()\n",
    "print(a)"
   ]
  },
  {
   "cell_type": "markdown",
   "metadata": {},
   "source": [
    "#### 2.使用带参数装饰器\n",
    "上面代码，如果要对有参数的func进行计时怎么办？\n",
    "在闭包函数内，增加需要传入的参数"
   ]
  },
  {
   "cell_type": "code",
   "execution_count": 17,
   "metadata": {},
   "outputs": [
    {
     "name": "stdout",
     "output_type": "stream",
     "text": [
      "0.0\n"
     ]
    },
    {
     "data": {
      "text/plain": [
       "6402373705728000"
      ]
     },
     "execution_count": 17,
     "metadata": {},
     "output_type": "execute_result"
    }
   ],
   "source": [
    "import time\n",
    "def count_time(func):\n",
    "    def wrapper(*args,**kwargs):\n",
    "        s = time.time()\n",
    "        res = func(*args,**kwargs)\n",
    "        e = time.time()\n",
    "        print(e-s)\n",
    "        return res\n",
    "    return wrapper\n",
    "\n",
    "@count_time\n",
    "def test(n):\n",
    "    if n==0:\n",
    "        return 1\n",
    "    return n*test(n-1)\n",
    "\n",
    "def test2(n):\n",
    "    if n==0:\n",
    "        return 1\n",
    "    return n*test2(n-1)\n",
    "\n",
    "a = count_time(test2)\n",
    "a(18)\n",
    "# test(18)"
   ]
  },
  {
   "cell_type": "markdown",
   "metadata": {},
   "source": [
    "根据上面可以知道，如果直接对递归元素使用装饰器，则会导致循环调用装饰器。原因应该是使用装饰器等价于\n",
    "```python\n",
    "test2 = count_time(test2)\n",
    "test2(18)\n",
    "```\n",
    "导致原函数递归变为装饰器函数递归"
   ]
  },
  {
   "cell_type": "markdown",
   "metadata": {},
   "source": [
    "#### 3.带参数的装饰器"
   ]
  },
  {
   "cell_type": "code",
   "execution_count": 39,
   "metadata": {},
   "outputs": [
    {
     "name": "stdout",
     "output_type": "stream",
     "text": [
      "0.3200678825378418\n",
      "0.3111133575439453\n",
      "0.3111133575439453\n",
      "0.33655810356140137\n",
      "test3\n"
     ]
    }
   ],
   "source": [
    "from functools import wraps\n",
    "\n",
    "# 将参数和func参数放一起\n",
    "def count_time(func,thr):\n",
    "    def wrapper(*args,**kwargs):\n",
    "        s = time.time()\n",
    "        res = func(*args,**kwargs)\n",
    "        e = time.time()\n",
    "        print(e-s)\n",
    "        if thr>2:\n",
    "            raise TimeoutError\n",
    "        return res\n",
    "    return wrapper\n",
    "\n",
    "def test2(n):\n",
    "    for i in range(n):\n",
    "        time.sleep(0.1)\n",
    "\n",
    "count_time(test2,2)(3)  #手工调用\n",
    "\n",
    "\n",
    "# 但是对于装饰器传参，根据装饰器规则定义需要在外层再包一层函数\n",
    "\n",
    "def count_time_dec(thr):\n",
    "    def inner(func):\n",
    "        @wraps(func)   #防止重写func函数名称\n",
    "        def wrapper(*args,**kwargs):\n",
    "            s = time.time()\n",
    "            res = func(*args,**kwargs)\n",
    "            e = time.time()\n",
    "            print(e-s)\n",
    "            if e-s>thr:\n",
    "                raise TimeoutError\n",
    "            return res\n",
    "        return wrapper\n",
    "    return inner\n",
    "\n",
    "@count_time_dec(thr=1)\n",
    "def test3(n):\n",
    "    for i in range(n):\n",
    "        time.sleep(0.1)\n",
    "\n",
    "count_time_dec(3)(test3)(3)\n",
    "test3(3)\n",
    "print(test3.__name__)"
   ]
  },
  {
   "cell_type": "markdown",
   "metadata": {},
   "source": [
    "#### 4.装饰器类\n",
    "为了更好的复用和继承，可以使用装饰器类"
   ]
  },
  {
   "cell_type": "code",
   "execution_count": 44,
   "metadata": {},
   "outputs": [],
   "source": [
    "from functools import wraps\n",
    " \n",
    "class logit(object):\n",
    "    def __init__(self, logfile='out.log'):\n",
    "        self.logfile = logfile\n",
    " \n",
    "    def __call__(self, func):\n",
    "        @wraps(func)\n",
    "        def wrapped_function(*args, **kwargs):\n",
    "            log_string = func.__name__ + \" was called\"\n",
    "            print(log_string)\n",
    "            # 打开logfile并写入\n",
    "            with open(self.logfile, 'a') as opened_file:\n",
    "                # 现在将日志打到指定的文件\n",
    "                opened_file.write(log_string + '\\n')\n",
    "            # 现在，发送一个通知\n",
    "            self.notify()\n",
    "            return func(*args, **kwargs)\n",
    "        return wrapped_function\n",
    " \n",
    "    def notify(self):\n",
    "        # logit只打日志，不做别的\n",
    "        print('正在写入日志')"
   ]
  },
  {
   "cell_type": "code",
   "execution_count": 41,
   "metadata": {},
   "outputs": [],
   "source": [
    "class email_logit(logit):\n",
    "    '''\n",
    "    一个logit的实现版本，可以在函数调用时发送email给管理员\n",
    "    '''\n",
    "    def __init__(self, email='admin@myproject.com', *args, **kwargs):\n",
    "        self.email = email\n",
    "        super(email_logit, self).__init__(*args, **kwargs)\n",
    " \n",
    "    def notify(self):\n",
    "        # 发送一封email到self.email\n",
    "        # 这里就不做实现了\n",
    "        pass"
   ]
  },
  {
   "cell_type": "code",
   "execution_count": 46,
   "metadata": {},
   "outputs": [
    {
     "name": "stdout",
     "output_type": "stream",
     "text": [
      "myfunc1 was called\n",
      "正在写入日志\n"
     ]
    }
   ],
   "source": [
    "@logit()\n",
    "def myfunc1():\n",
    "    pass\n",
    "myfunc1()"
   ]
  },
  {
   "cell_type": "markdown",
   "metadata": {},
   "source": [
    "## 生成器"
   ]
  },
  {
   "cell_type": "code",
   "execution_count": null,
   "metadata": {},
   "outputs": [],
   "source": [
    "s = (i for i in range(100000000000))  #生成器,惰性求值"
   ]
  },
  {
   "cell_type": "code",
   "execution_count": 6,
   "metadata": {},
   "outputs": [],
   "source": [
    "m = [i for i in range(10000000)]"
   ]
  },
  {
   "cell_type": "code",
   "execution_count": 22,
   "metadata": {},
   "outputs": [
    {
     "name": "stdout",
     "output_type": "stream",
     "text": [
      "0\n",
      "1\n",
      "2\n",
      "3\n",
      "4\n",
      "5\n",
      "6\n",
      "7\n",
      "8\n",
      "9\n",
      "10\n",
      "11\n",
      "12\n",
      "13\n",
      "14\n",
      "15\n",
      "16\n",
      "17\n",
      "18\n"
     ]
    }
   ],
   "source": [
    "def get_val():      # 调用函数返回一个生成器，迭代生成器\n",
    "    yield 1\n",
    "    yield 2\n",
    "    yield 3\n",
    "\n",
    "def my(n):\n",
    "    i = 0\n",
    "    while i <n:\n",
    "        yield i\n",
    "        i+=1\n",
    "for i in my(19):\n",
    "    print(i) "
   ]
  }
 ],
 "metadata": {
  "kernelspec": {
   "display_name": "torch_cpu",
   "language": "python",
   "name": "python3"
  },
  "language_info": {
   "codemirror_mode": {
    "name": "ipython",
    "version": 3
   },
   "file_extension": ".py",
   "mimetype": "text/x-python",
   "name": "python",
   "nbconvert_exporter": "python",
   "pygments_lexer": "ipython3",
   "version": "3.8.17"
  }
 },
 "nbformat": 4,
 "nbformat_minor": 2
}
